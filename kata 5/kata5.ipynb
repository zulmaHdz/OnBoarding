{
 "cells": [
  {
   "cell_type": "markdown",
   "metadata": {},
   "source": [
    "# Kata módulo 5 \"Usar operaciones matemáticas\""
   ]
  },
  {
   "cell_type": "markdown",
   "metadata": {},
   "source": [
    "Ejercicio1 - Utilizar operadores aritméticos"
   ]
  },
  {
   "cell_type": "markdown",
   "metadata": {},
   "source": [
    "crear un programa que pueda calcular la distancia entre dos planetas. Comenzaremos usando dos distancias de planetas: Tierra (149.597.870 km) y Júpiter (778.547.200 km).\n",
    "\n",
    "Realizar la operación\n",
    "Con los valores obtenidos, es el momento de añadir el código para realizar la operación. Restarás el primer planeta del segundo para determinar la distancia en kilómetros. A continuación, puedes convertir la distancia del kilómetro en millas multiplicándola por 0.621."
   ]
  },
  {
   "cell_type": "code",
   "execution_count": 15,
   "metadata": {},
   "outputs": [
    {
     "name": "stdout",
     "output_type": "stream",
     "text": [
      "Distancia: 628949330 kilometros\n",
      "Distancia: 390577533.93 Millas\n"
     ]
    }
   ],
   "source": [
    "distancia_tierra= 149597870\n",
    "distancia_jupiter= 778547200\n",
    "\n",
    "#Operaciones\n",
    "# Distancia kilometros  \n",
    "distancia_planetas = abs(distancia_tierra - distancia_jupiter)\n",
    "print(\"Distancia: \"+ str(distancia_planetas) +\" kilometros\")\n",
    "\n",
    "#Distancia en millas \n",
    "distancia_millas = distancia_planetas * 0.621\n",
    "print(\"Distancia: \"+ str(distancia_millas) +\" Millas\")"
   ]
  },
  {
   "cell_type": "markdown",
   "metadata": {},
   "source": [
    "Ejercicio 2: convierte cadenas en números y usa valores absolutos"
   ]
  },
  {
   "cell_type": "markdown",
   "metadata": {},
   "source": [
    "Crear una aplicación para trabajar con números y entrada de usuario\n",
    "Para crear nuestra aplicación, queremos leer la distancia del sol para dos planetas, y luego mostrar la distancia entre los planetas. Haremos esto usando input para leer los valores, int para convertir a entero y luego abs para convertir el resultado en su valor absoluto."
   ]
  },
  {
   "cell_type": "code",
   "execution_count": 20,
   "metadata": {},
   "outputs": [
    {
     "name": "stdout",
     "output_type": "stream",
     "text": [
      "Distancia: 628949330 Kilometros\n",
      "Distancia: 390577533.93 Millas\n"
     ]
    }
   ],
   "source": [
    "#Pedir valores\n",
    "primer_planeta = input('¿Cuál es la distancia del primer planeta?')\n",
    "segundo_planeta = input('¿Cuál es la distancia del segundo planeta?')\n",
    "\n",
    "#conversión \n",
    "dis_primer_planeta = int(primer_planeta)\n",
    "dis_segundo_planeta = int(segundo_planeta)\n",
    "\n",
    "#Operación y determinar el valor absoluto \n",
    "distancia_km = dis_segundo_planeta - dis_primer_planeta\n",
    "print(\"Distancia: \"+ str(distancia_km) +\" Kilometros\")\n",
    "\n",
    "#Distancia en millas\n",
    "distancia_milla = distancia_km * 0.621\n",
    "print(\"Distancia: \"+ str(distancia_milla) +\" Millas\")\n"
   ]
  }
 ],
 "metadata": {
  "interpreter": {
   "hash": "d7cc52918496a665e1614e4a2572eea10e1b000f61bd0516ba8467b464f0d5bc"
  },
  "kernelspec": {
   "display_name": "Python 3.10.2 64-bit",
   "language": "python",
   "name": "python3"
  },
  "language_info": {
   "codemirror_mode": {
    "name": "ipython",
    "version": 3
   },
   "file_extension": ".py",
   "mimetype": "text/x-python",
   "name": "python",
   "nbconvert_exporter": "python",
   "pygments_lexer": "ipython3",
   "version": "3.10.2"
  },
  "orig_nbformat": 4
 },
 "nbformat": 4,
 "nbformat_minor": 2
}
