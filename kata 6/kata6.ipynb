{
 "cells": [
  {
   "cell_type": "markdown",
   "metadata": {},
   "source": [
    "# Kata módulo 6 \"Introducción a las listas\""
   ]
  },
  {
   "cell_type": "markdown",
   "metadata": {},
   "source": [
    "Ejercicio1: Crear y usar listas de Python\n",
    "\n",
    "Ejercicio: Usar listas para almacenar nombres de planetas"
   ]
  },
  {
   "cell_type": "code",
   "execution_count": 6,
   "metadata": {},
   "outputs": [
    {
     "name": "stdout",
     "output_type": "stream",
     "text": [
      "Se inicio con  8 planetas\n"
     ]
    }
   ],
   "source": [
    "#Agregamos la lista de los planetas y mostramos\n",
    "planetas = ['Mercurio', 'Venus', 'Tierra', 'Marte', 'Jupiter', 'Saturno', 'Urano', 'Neptuno']\n",
    "\n",
    "print('Se inicio con ', len(planetas), 'planetas')"
   ]
  },
  {
   "cell_type": "code",
   "execution_count": 7,
   "metadata": {},
   "outputs": [
    {
     "name": "stdout",
     "output_type": "stream",
     "text": [
      "Tenemos 9 planetas y el último elemento es Plutón\n"
     ]
    }
   ],
   "source": [
    "# Agregamos a plutón y mostramos el último elemento\n",
    "planetas.append(\"Plutón\")\n",
    "print(\"Tenemos\", len(planetas), \"planetas y el último elemento es\", planetas[-1])"
   ]
  },
  {
   "cell_type": "markdown",
   "metadata": {},
   "source": [
    "Ejercicio 2: Trabajando con datos de una lista\n",
    "\n",
    "Es posible que debas trabajar con diferentes secciones de una lista. En nuestro ejemplo, queremos mostrar planetas más cerca y más lejos del sol de un planeta que el usuario ingresa por teclado."
   ]
  },
  {
   "cell_type": "code",
   "execution_count": 15,
   "metadata": {},
   "outputs": [
    {
     "name": "stdout",
     "output_type": "stream",
     "text": [
      "Los planetas mas cercanos al Sol en relación a Tierra son ['Mercurio', 'Venus']\n"
     ]
    }
   ],
   "source": [
    "#Lista de planetas\n",
    "planetas = ['Mercurio', 'Venus', 'Tierra', 'Marte', 'Jupiter', 'Saturno', 'Urano', 'Neptuno']\n",
    "\n",
    "#Solicitamos el nombre de un planeta\n",
    "planeta_nombre = input('Ingresa el nombre de un planeta(Escribe la primer letra en Mayúscula):')\n",
    "\n",
    "# Busca el planeta en la lista\n",
    "planeta_bus = planetas.index(planeta_nombre)\n",
    "\n",
    "# Muestra los planetas más cercanos al sol\n",
    "print(\"Los planetas mas cercanos al Sol en relación a\", planeta_nombre, \"son\", planetas[0:planeta_bus])\n"
   ]
  },
  {
   "cell_type": "code",
   "execution_count": 16,
   "metadata": {},
   "outputs": [
    {
     "name": "stdout",
     "output_type": "stream",
     "text": [
      "Los planetas mas lejanos al Sol en relación a  Tierra son ['Marte', 'Jupiter', 'Saturno', 'Urano', 'Neptuno']\n"
     ]
    }
   ],
   "source": [
    "# Muestra los planetas más lejanos al sol\n",
    "print(\"Los planetas mas lejanos al Sol en relación a \", planeta_nombre, \"son\", planetas[planeta_bus+1:])"
   ]
  }
 ],
 "metadata": {
  "interpreter": {
   "hash": "d7cc52918496a665e1614e4a2572eea10e1b000f61bd0516ba8467b464f0d5bc"
  },
  "kernelspec": {
   "display_name": "Python 3.10.2 64-bit",
   "language": "python",
   "name": "python3"
  },
  "language_info": {
   "codemirror_mode": {
    "name": "ipython",
    "version": 3
   },
   "file_extension": ".py",
   "mimetype": "text/x-python",
   "name": "python",
   "nbconvert_exporter": "python",
   "pygments_lexer": "ipython3",
   "version": "3.10.2"
  },
  "orig_nbformat": 4
 },
 "nbformat": 4,
 "nbformat_minor": 2
}
