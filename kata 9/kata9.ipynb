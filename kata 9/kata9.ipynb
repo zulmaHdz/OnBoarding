{
 "cells": [
  {
   "cell_type": "markdown",
   "metadata": {},
   "source": [
    "# Kata módulo 9 \"Funciones\""
   ]
  },
  {
   "cell_type": "markdown",
   "metadata": {},
   "source": [
    "Ejercicio: Uso de funciones en Python\n",
    "\n",
    "Ejercicio 1: Trabajar con argumentos en funciones\n",
    "\n",
    "En este ejercicio, construirás un informe de combustible que requiere información de varias ubicaciones de combustible en todo el cohete."
   ]
  },
  {
   "cell_type": "code",
   "execution_count": 4,
   "metadata": {},
   "outputs": [
    {
     "name": "stdout",
     "output_type": "stream",
     "text": [
      "Tanque 1: 80 Tanque 2: 60 Tanque 3: 90. Promedio: 76.66666666666667\n"
     ]
    }
   ],
   "source": [
    "# Función para leer 3 tanques de combustible y muestre el promedio\n",
    "def tanques(tanque1, tanque2, tanque3):\n",
    "  average = (tanque1 + tanque2 + tanque3) / 3\n",
    "  return f\"Tanque 1: {tanque1} Tanque 2: {tanque2} Tanque 3: {tanque3}. Promedio: {average}\"\n",
    "\n",
    "\n",
    "# Llamamos a la función que genera el reporte print(funcion(tanque1, tanque2, tanque3))\n",
    "print(tanques(80, 60, 90))"
   ]
  },
  {
   "cell_type": "code",
   "execution_count": 6,
   "metadata": {},
   "outputs": [
    {
     "name": "stdout",
     "output_type": "stream",
     "text": [
      "Tanque 1: 20 Tanque 2: 30 Tanque 3: 40. Promedio: 30.0\n"
     ]
    }
   ],
   "source": [
    "# Función promedio \n",
    "def promedio(valor1, valor2, valor3):\n",
    "  return (valor1 + valor2 + valor3) / 3\n",
    "\n",
    "\n",
    "# Actualiza la función\n",
    "def tanques(tanque1, tanque2, tanque3):\n",
    "  average = promedio(tanque1, tanque2, tanque3)\n",
    "  return f\"Tanque 1: {tanque1} Tanque 2: {tanque2} Tanque 3: {tanque3}. Promedio: {average}\"\n",
    "\n",
    "print(tanques(20, 30, 40))"
   ]
  },
  {
   "cell_type": "markdown",
   "metadata": {},
   "source": [
    "Ejercicio 2: Trabajo con argumentos de palabra clave\n",
    "\n",
    "Ejercicio : Trabajar con argumentos de palabras clave en funciones\n",
    "\n",
    "En este ejercicio, construirás un informe de cohete que requiere varias piezas de información, como el tiempo hasta el destino, el combustible a la izquierda y el nombre del destino. "
   ]
  },
  {
   "cell_type": "code",
   "execution_count": 16,
   "metadata": {},
   "outputs": [
    {
     "name": "stdout",
     "output_type": "stream",
     "text": [
      "\n",
      "    Misión a Venus\n",
      "    Tiempo total de viaje: 71 minutes\n",
      "    Combustible total: 600000 \n",
      "    \n"
     ]
    }
   ],
   "source": [
    "# Función con un informe preciso de la misión. Considera hora de prelanzamiento, tiempo de vuelo, destino, tanque externo y tanque interno\n",
    "def informe(hora_pre_lanzamiento, tiempo_vuelo, destino, tanque_externo, tanque_interno):\n",
    "    return f\"\"\"\n",
    "    Misión a {destino}\n",
    "    Tiempo total de viaje: {hora_pre_lanzamiento + tiempo_vuelo} minutes\n",
    "    Combustible total: {tanque_externo + tanque_interno} \n",
    "    \"\"\"\n",
    "\n",
    "print(informe(20, 51, \"Venus\", 300000, 300000))"
   ]
  },
  {
   "cell_type": "code",
   "execution_count": 15,
   "metadata": {},
   "outputs": [
    {
     "name": "stdout",
     "output_type": "stream",
     "text": [
      "\n",
      "    Misión a Venus\n",
      "    Tiempo total de viaje: 81 minutes\n",
      "    Combustible total: 600000\n",
      "    \n"
     ]
    }
   ],
   "source": [
    "# Escribe tu nueva función de reporte considerando lo anterior\n",
    "def informe(destino, *minutes, **fuel_reservoirs):\n",
    "    return f\"\"\"\n",
    "    Misión a {destino}\n",
    "    Tiempo total de viaje: {sum(minutes)} minutes\n",
    "    Combustible total: {sum(fuel_reservoirs.values())}\n",
    "    \"\"\"\n",
    "\n",
    "print(informe(\"Venus\", 20, 10, 51, main=300000, external=300000))"
   ]
  },
  {
   "cell_type": "code",
   "execution_count": 28,
   "metadata": {},
   "outputs": [
    {
     "name": "stdout",
     "output_type": "stream",
     "text": [
      "\n",
      "    Misión a Venus\n",
      "    Tiempo total de viaje: 96 minutes\n",
      "    Combustible total: 600000\n",
      "    interno tanque --> 300000 litros \n",
      "externo tanque --> 300000 litros \n",
      "\n"
     ]
    }
   ],
   "source": [
    "# Escribe tu nueva función\n",
    "def informe(destino, *minutes, **fuel_reservoirs):\n",
    "    main_report = f\"\"\"\n",
    "    Misión a {destino}\n",
    "    Tiempo total de viaje: {sum(minutes)} minutes\n",
    "    Combustible total: {sum(fuel_reservoirs.values())}\n",
    "    \"\"\"\n",
    "    for tanque, gallons in fuel_reservoirs.items():\n",
    "        main_report += f\"{tanque} tanque --> {gallons} litros \\n\"\n",
    "    return main_report\n",
    "\n",
    "print(informe(\"Venus\", 20, 25, 51, interno=300000, externo=300000))"
   ]
  }
 ],
 "metadata": {
  "interpreter": {
   "hash": "d7cc52918496a665e1614e4a2572eea10e1b000f61bd0516ba8467b464f0d5bc"
  },
  "kernelspec": {
   "display_name": "Python 3.10.2 64-bit",
   "language": "python",
   "name": "python3"
  },
  "language_info": {
   "codemirror_mode": {
    "name": "ipython",
    "version": 3
   },
   "file_extension": ".py",
   "mimetype": "text/x-python",
   "name": "python",
   "nbconvert_exporter": "python",
   "pygments_lexer": "ipython3",
   "version": "3.10.2"
  },
  "orig_nbformat": 4
 },
 "nbformat": 4,
 "nbformat_minor": 2
}
